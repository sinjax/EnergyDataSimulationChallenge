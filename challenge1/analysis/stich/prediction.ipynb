{
 "cells": [
  {
   "cell_type": "markdown",
   "metadata": {},
   "source": [
    "# Predicting electricity production\n",
    "by Christoph Stich\n",
    "\n",
    "March 2, 2016\n",
    "\n",
    "**Disclaimer: ** I couldn't help but look at the other submissions and find out about their score. However, I do significantly outperform all submissions I have looked at and think that I bring enough of my own ideas into this to be a worthwile submission."
   ]
  },
  {
   "cell_type": "code",
   "execution_count": 1,
   "metadata": {
    "collapsed": false
   },
   "outputs": [
    {
     "name": "stderr",
     "output_type": "stream",
     "text": [
      "/home/christoph/anaconda/envs/py34/lib/python3.4/site-packages/matplotlib/__init__.py:872: UserWarning: axes.color_cycle is deprecated and replaced with axes.prop_cycle; please use the latter.\n",
      "  warnings.warn(self.msg_depr % (key, alt_key))\n"
     ]
    }
   ],
   "source": [
    "from sklearn import ensemble \n",
    "from sklearn import metrics\n",
    "from sklearn import linear_model\n",
    "from sklearn import preprocessing\n",
    "from sklearn import svm\n",
    "from sklearn import utils\n",
    "\n",
    "import copy\n",
    "import csv\n",
    "import io\n",
    "import numpy as np\n",
    "import pandas as pd\n",
    "import math\n",
    "import matplotlib.pyplot as plt\n",
    "import seaborn as sns\n",
    "import statsmodels.formula.api as smf\n",
    "%matplotlib inline\n",
    "\n",
    "def mean_absolute_percentage_error(y_true, y_pred): \n",
    "    y_true = np.asarray(y_true)\n",
    "    y_test = np.asarray(y_true)\n",
    "\n",
    "    # y_true, y_pred = utils.check_array(y_true, y_pred)\n",
    "\n",
    "    ## Note: does not handle mix 1d representation\n",
    "    #if _is_1d(y_true): \n",
    "    #    y_true, y_pred = _check_1d_array(y_true, y_pred)\n",
    "\n",
    "    return np.mean(np.abs((y_true - y_pred) / y_true)) * 100\n",
    "\n",
    "def normalize(x):\n",
    "    return math.sqrt(x**2)"
   ]
  },
  {
   "cell_type": "markdown",
   "metadata": {},
   "source": [
    "## Exploring the data"
   ]
  },
  {
   "cell_type": "code",
   "execution_count": 2,
   "metadata": {
    "collapsed": false
   },
   "outputs": [],
   "source": [
    "df_train = pd.read_csv('../../data/training_dataset_500.csv')\n",
    "df_test = pd.read_csv('../../data/test_dataset_500.csv')"
   ]
  },
  {
   "cell_type": "code",
   "execution_count": 3,
   "metadata": {
    "collapsed": false
   },
   "outputs": [
    {
     "data": {
      "text/html": [
       "<div>\n",
       "<table border=\"1\" class=\"dataframe\">\n",
       "  <thead>\n",
       "    <tr style=\"text-align: right;\">\n",
       "      <th></th>\n",
       "      <th>ID</th>\n",
       "      <th>Label</th>\n",
       "      <th>House</th>\n",
       "      <th>Year</th>\n",
       "      <th>Month</th>\n",
       "      <th>Temperature</th>\n",
       "      <th>Daylight</th>\n",
       "      <th>EnergyProduction</th>\n",
       "    </tr>\n",
       "  </thead>\n",
       "  <tbody>\n",
       "    <tr>\n",
       "      <th>0</th>\n",
       "      <td>0</td>\n",
       "      <td>0</td>\n",
       "      <td>1</td>\n",
       "      <td>2011</td>\n",
       "      <td>7</td>\n",
       "      <td>26.2</td>\n",
       "      <td>178.9</td>\n",
       "      <td>740</td>\n",
       "    </tr>\n",
       "    <tr>\n",
       "      <th>1</th>\n",
       "      <td>1</td>\n",
       "      <td>1</td>\n",
       "      <td>1</td>\n",
       "      <td>2011</td>\n",
       "      <td>8</td>\n",
       "      <td>25.8</td>\n",
       "      <td>169.7</td>\n",
       "      <td>731</td>\n",
       "    </tr>\n",
       "    <tr>\n",
       "      <th>2</th>\n",
       "      <td>2</td>\n",
       "      <td>2</td>\n",
       "      <td>1</td>\n",
       "      <td>2011</td>\n",
       "      <td>9</td>\n",
       "      <td>22.8</td>\n",
       "      <td>170.2</td>\n",
       "      <td>694</td>\n",
       "    </tr>\n",
       "    <tr>\n",
       "      <th>3</th>\n",
       "      <td>3</td>\n",
       "      <td>3</td>\n",
       "      <td>1</td>\n",
       "      <td>2011</td>\n",
       "      <td>10</td>\n",
       "      <td>16.4</td>\n",
       "      <td>169.1</td>\n",
       "      <td>688</td>\n",
       "    </tr>\n",
       "    <tr>\n",
       "      <th>4</th>\n",
       "      <td>4</td>\n",
       "      <td>4</td>\n",
       "      <td>1</td>\n",
       "      <td>2011</td>\n",
       "      <td>11</td>\n",
       "      <td>11.4</td>\n",
       "      <td>169.1</td>\n",
       "      <td>650</td>\n",
       "    </tr>\n",
       "  </tbody>\n",
       "</table>\n",
       "</div>"
      ],
      "text/plain": [
       "   ID  Label  House  Year  Month  Temperature  Daylight  EnergyProduction\n",
       "0   0      0      1  2011      7         26.2     178.9               740\n",
       "1   1      1      1  2011      8         25.8     169.7               731\n",
       "2   2      2      1  2011      9         22.8     170.2               694\n",
       "3   3      3      1  2011     10         16.4     169.1               688\n",
       "4   4      4      1  2011     11         11.4     169.1               650"
      ]
     },
     "execution_count": 3,
     "metadata": {},
     "output_type": "execute_result"
    }
   ],
   "source": [
    "df_train.head(5)"
   ]
  },
  {
   "cell_type": "code",
   "execution_count": 4,
   "metadata": {
    "collapsed": false
   },
   "outputs": [
    {
     "data": {
      "text/html": [
       "<div>\n",
       "<table border=\"1\" class=\"dataframe\">\n",
       "  <thead>\n",
       "    <tr style=\"text-align: right;\">\n",
       "      <th></th>\n",
       "      <th>ID</th>\n",
       "      <th>Label</th>\n",
       "      <th>House</th>\n",
       "      <th>Year</th>\n",
       "      <th>Month</th>\n",
       "      <th>Temperature</th>\n",
       "      <th>Daylight</th>\n",
       "      <th>EnergyProduction</th>\n",
       "    </tr>\n",
       "  </thead>\n",
       "  <tbody>\n",
       "    <tr>\n",
       "      <th>0</th>\n",
       "      <td>23</td>\n",
       "      <td>23</td>\n",
       "      <td>1</td>\n",
       "      <td>2013</td>\n",
       "      <td>6</td>\n",
       "      <td>22.0</td>\n",
       "      <td>125.5</td>\n",
       "      <td>778</td>\n",
       "    </tr>\n",
       "    <tr>\n",
       "      <th>1</th>\n",
       "      <td>47</td>\n",
       "      <td>23</td>\n",
       "      <td>2</td>\n",
       "      <td>2013</td>\n",
       "      <td>6</td>\n",
       "      <td>21.1</td>\n",
       "      <td>123.1</td>\n",
       "      <td>627</td>\n",
       "    </tr>\n",
       "    <tr>\n",
       "      <th>2</th>\n",
       "      <td>71</td>\n",
       "      <td>23</td>\n",
       "      <td>3</td>\n",
       "      <td>2013</td>\n",
       "      <td>6</td>\n",
       "      <td>21.9</td>\n",
       "      <td>126.8</td>\n",
       "      <td>735</td>\n",
       "    </tr>\n",
       "    <tr>\n",
       "      <th>3</th>\n",
       "      <td>95</td>\n",
       "      <td>23</td>\n",
       "      <td>4</td>\n",
       "      <td>2013</td>\n",
       "      <td>6</td>\n",
       "      <td>20.2</td>\n",
       "      <td>125.2</td>\n",
       "      <td>533</td>\n",
       "    </tr>\n",
       "    <tr>\n",
       "      <th>4</th>\n",
       "      <td>119</td>\n",
       "      <td>23</td>\n",
       "      <td>5</td>\n",
       "      <td>2013</td>\n",
       "      <td>6</td>\n",
       "      <td>20.2</td>\n",
       "      <td>125.2</td>\n",
       "      <td>533</td>\n",
       "    </tr>\n",
       "  </tbody>\n",
       "</table>\n",
       "</div>"
      ],
      "text/plain": [
       "    ID  Label  House  Year  Month  Temperature  Daylight  EnergyProduction\n",
       "0   23     23      1  2013      6         22.0     125.5               778\n",
       "1   47     23      2  2013      6         21.1     123.1               627\n",
       "2   71     23      3  2013      6         21.9     126.8               735\n",
       "3   95     23      4  2013      6         20.2     125.2               533\n",
       "4  119     23      5  2013      6         20.2     125.2               533"
      ]
     },
     "execution_count": 4,
     "metadata": {},
     "output_type": "execute_result"
    }
   ],
   "source": [
    "df_test.head(5)"
   ]
  },
  {
   "cell_type": "code",
   "execution_count": 5,
   "metadata": {
    "collapsed": false,
    "scrolled": false
   },
   "outputs": [
    {
     "name": "stdout",
     "output_type": "stream",
     "text": [
      "# total obs.:  11500 , # unique obs.:  11500\n",
      "Any NA:  False\n"
     ]
    }
   ],
   "source": [
    "# Check for duplicates\n",
    "df_dup = df_train.loc[0:,'House':]\n",
    "df_dup['Daylight'] = df_dup['Daylight'] * 10\n",
    "df_dup['Temperature'] = df_dup['Temperature'] * 10\n",
    "unique = set([tuple(row for row in d) for d in df_dup.values.astype(int)])\n",
    "print('# total obs.: ', len(df_dup), ', # unique obs.: ', len(unique))\n",
    "# Check for NA in the data\n",
    "print('Any NA: ', df_train.isnull().values.any())"
   ]
  },
  {
   "cell_type": "markdown",
   "metadata": {},
   "source": [
    "I can see that there are not duplicate values in the dataset nor are there any values missing."
   ]
  },
  {
   "cell_type": "markdown",
   "metadata": {},
   "source": [
    "### Correlations before transformation"
   ]
  },
  {
   "cell_type": "code",
   "execution_count": 6,
   "metadata": {
    "collapsed": false
   },
   "outputs": [
    {
     "data": {
      "text/html": [
       "<div>\n",
       "<table border=\"1\" class=\"dataframe\">\n",
       "  <thead>\n",
       "    <tr style=\"text-align: right;\">\n",
       "      <th></th>\n",
       "      <th>Month</th>\n",
       "      <th>Temperature</th>\n",
       "      <th>Daylight</th>\n",
       "      <th>EnergyProduction</th>\n",
       "    </tr>\n",
       "  </thead>\n",
       "  <tbody>\n",
       "    <tr>\n",
       "      <th>Month</th>\n",
       "      <td>1.000000</td>\n",
       "      <td>0.353837</td>\n",
       "      <td>-0.276307</td>\n",
       "      <td>-0.232748</td>\n",
       "    </tr>\n",
       "    <tr>\n",
       "      <th>Temperature</th>\n",
       "      <td>0.353837</td>\n",
       "      <td>1.000000</td>\n",
       "      <td>-0.053363</td>\n",
       "      <td>0.272789</td>\n",
       "    </tr>\n",
       "    <tr>\n",
       "      <th>Daylight</th>\n",
       "      <td>-0.276307</td>\n",
       "      <td>-0.053363</td>\n",
       "      <td>1.000000</td>\n",
       "      <td>0.531577</td>\n",
       "    </tr>\n",
       "    <tr>\n",
       "      <th>EnergyProduction</th>\n",
       "      <td>-0.232748</td>\n",
       "      <td>0.272789</td>\n",
       "      <td>0.531577</td>\n",
       "      <td>1.000000</td>\n",
       "    </tr>\n",
       "  </tbody>\n",
       "</table>\n",
       "</div>"
      ],
      "text/plain": [
       "                     Month  Temperature  Daylight  EnergyProduction\n",
       "Month             1.000000     0.353837 -0.276307         -0.232748\n",
       "Temperature       0.353837     1.000000 -0.053363          0.272789\n",
       "Daylight         -0.276307    -0.053363  1.000000          0.531577\n",
       "EnergyProduction -0.232748     0.272789  0.531577          1.000000"
      ]
     },
     "execution_count": 6,
     "metadata": {},
     "output_type": "execute_result"
    }
   ],
   "source": [
    "df_train[['Month', 'Temperature','Daylight','EnergyProduction']].corr()"
   ]
  },
  {
   "cell_type": "markdown",
   "metadata": {},
   "source": [
    "### Correlations after transformation"
   ]
  },
  {
   "cell_type": "code",
   "execution_count": 7,
   "metadata": {
    "collapsed": false
   },
   "outputs": [
    {
     "data": {
      "text/html": [
       "<div>\n",
       "<table border=\"1\" class=\"dataframe\">\n",
       "  <thead>\n",
       "    <tr style=\"text-align: right;\">\n",
       "      <th></th>\n",
       "      <th>Month</th>\n",
       "      <th>Temperature</th>\n",
       "      <th>Daylight</th>\n",
       "      <th>EnergyProduction</th>\n",
       "    </tr>\n",
       "  </thead>\n",
       "  <tbody>\n",
       "    <tr>\n",
       "      <th>Month</th>\n",
       "      <td>1.000000</td>\n",
       "      <td>-0.707952</td>\n",
       "      <td>-0.057621</td>\n",
       "      <td>-0.442437</td>\n",
       "    </tr>\n",
       "    <tr>\n",
       "      <th>Temperature</th>\n",
       "      <td>-0.707952</td>\n",
       "      <td>1.000000</td>\n",
       "      <td>-0.053363</td>\n",
       "      <td>0.272789</td>\n",
       "    </tr>\n",
       "    <tr>\n",
       "      <th>Daylight</th>\n",
       "      <td>-0.057621</td>\n",
       "      <td>-0.053363</td>\n",
       "      <td>1.000000</td>\n",
       "      <td>0.531577</td>\n",
       "    </tr>\n",
       "    <tr>\n",
       "      <th>EnergyProduction</th>\n",
       "      <td>-0.442437</td>\n",
       "      <td>0.272789</td>\n",
       "      <td>0.531577</td>\n",
       "      <td>1.000000</td>\n",
       "    </tr>\n",
       "  </tbody>\n",
       "</table>\n",
       "</div>"
      ],
      "text/plain": [
       "                     Month  Temperature  Daylight  EnergyProduction\n",
       "Month             1.000000    -0.707952 -0.057621         -0.442437\n",
       "Temperature      -0.707952     1.000000 -0.053363          0.272789\n",
       "Daylight         -0.057621    -0.053363  1.000000          0.531577\n",
       "EnergyProduction -0.442437     0.272789  0.531577          1.000000"
      ]
     },
     "execution_count": 7,
     "metadata": {},
     "output_type": "execute_result"
    }
   ],
   "source": [
    "df_train['Month'] = np.sqrt((df_train['Month']-6)**2)\n",
    "df_test['Month'] = np.sqrt((df_test['Month']-6)**2)\n",
    "df_train[['Month', 'Temperature','Daylight','EnergyProduction']].corr()"
   ]
  },
  {
   "cell_type": "markdown",
   "metadata": {},
   "source": [
    "I can transform the relatinoship between energy production and month into a linear relationship by applying sqrt((month-x)\\*\\*2). I tried several values for x and found that 6 increases the correlation the most."
   ]
  },
  {
   "cell_type": "code",
   "execution_count": 8,
   "metadata": {
    "collapsed": false,
    "scrolled": false
   },
   "outputs": [
    {
     "data": {
      "image/png": "[encoded data removed]",
      "text/plain": [
       "<matplotlib.figure.Figure at 0x7f07dae41828>"
      ]
     },
     "metadata": {},
     "output_type": "display_data"
    }
   ],
   "source": [
    "g = sns.PairGrid(df_train[['Month', 'Temperature','Daylight','EnergyProduction']])\n",
    "g = g.map_offdiag(plt.scatter, edgecolor=\"w\", s=40)\n",
    "g = g.map_diag(plt.hist, edgecolor=\"w\")"
   ]
  },
  {
   "cell_type": "markdown",
   "metadata": {},
   "source": [
    "When looking at the different scatter plots and at the relationship between energy consumption and the other variables, I can see that month, temperature, and daylight exhibit a somewhat linear relationship with energy production."
   ]
  },
  {
   "cell_type": "markdown",
   "metadata": {},
   "source": [
    "## Building a model"
   ]
  },
  {
   "cell_type": "code",
   "execution_count": 9,
   "metadata": {
    "collapsed": false
   },
   "outputs": [],
   "source": [
    "X_train = df_train.loc[0:, 'House':'Daylight'].values\n",
    "y_train = df_train.loc[0:, 'EnergyProduction'].values\n",
    "X_test = df_test.loc[0:, 'House':'Daylight'].values\n",
    "y_test = df_test.loc[0:, 'EnergyProduction'].values"
   ]
  },
  {
   "cell_type": "markdown",
   "metadata": {},
   "source": [
    "### First models\n",
    "We are going to start by building a simple multiple regression model and a general linear model. Statsmodels formula API allows us to specify models in R notation."
   ]
  },
  {
   "cell_type": "code",
   "execution_count": 10,
   "metadata": {
    "collapsed": false
   },
   "outputs": [
    {
     "name": "stdout",
     "output_type": "stream",
     "text": [
      "Linear regression MAPE:  5.54876527488\n"
     ]
    }
   ],
   "source": [
    "lrg = smf.ols('EnergyProduction ~ Temperature + Daylight + Month + C(House)', df_train).fit()\n",
    "print(\"Linear regression MAPE: \", mean_absolute_percentage_error(y_test, lrg.predict(df_test)))"
   ]
  },
  {
   "cell_type": "code",
   "execution_count": 11,
   "metadata": {
    "collapsed": false
   },
   "outputs": [
    {
     "name": "stdout",
     "output_type": "stream",
     "text": [
      "GLM MAPE:  5.54876527488\n"
     ]
    }
   ],
   "source": [
    "glm = smf.glm('EnergyProduction ~ Temperature + Daylight + Month + C(House)', df_train).fit()\n",
    "print(\"GLM MAPE: \", mean_absolute_percentage_error(y_test, glm.predict(df_test)))"
   ]
  },
  {
   "cell_type": "markdown",
   "metadata": {},
   "source": [
    "Both models perform quite well already. Let us see how a random forest regressor and an adaboost regressor perform."
   ]
  },
  {
   "cell_type": "code",
   "execution_count": 12,
   "metadata": {
    "collapsed": false
   },
   "outputs": [
    {
     "name": "stdout",
     "output_type": "stream",
     "text": [
      "RFR MAPE:  24.7993166148\n"
     ]
    }
   ],
   "source": [
    "rfr = ensemble.RandomForestRegressor(n_estimators=500, max_features='sqrt')\n",
    "rfr.fit(X_train, y_train)\n",
    "y_pred = rfr.predict(X_test)\n",
    "print('RFR MAPE: ', mean_absolute_percentage_error(y_test, y_pred))"
   ]
  },
  {
   "cell_type": "code",
   "execution_count": 13,
   "metadata": {
    "collapsed": false
   },
   "outputs": [
    {
     "name": "stdout",
     "output_type": "stream",
     "text": [
      "ABR MAPE:  20.3288317467\n"
     ]
    }
   ],
   "source": [
    "abr = ensemble.AdaBoostRegressor(n_estimators=500)\n",
    "abr.fit(X_train, y_train)\n",
    "y_pred = abr.predict(X_test)\n",
    "print('ABR MAPE: ', mean_absolute_percentage_error(y_test, y_pred))"
   ]
  },
  {
   "cell_type": "markdown",
   "metadata": {},
   "source": [
    "That is surprisingly a lot worse than both the linear models."
   ]
  },
  {
   "cell_type": "code",
   "execution_count": 14,
   "metadata": {
    "collapsed": false,
    "scrolled": true
   },
   "outputs": [
    {
     "name": "stdout",
     "output_type": "stream",
     "text": [
      "SVR Rbf MAPE:  7.30760036568\n",
      "SVR linear MAPE:  250.28227665\n"
     ]
    }
   ],
   "source": [
    "svr_rbf = svm.SVR(kernel='rbf', C=1e3, gamma=0.1)\n",
    "svr_lin = svm.SVR(kernel='linear', C=1e3)\n",
    "# svr_poly = svm.SVR(kernel='poly', C=1e3, degree=2)\n",
    "y_rbf = svr_rbf.fit(X_train, y_train).predict(X_test)\n",
    "y_lin = svr_lin.fit(X_train, y_train).predict(X_test)\n",
    "# y_poly = svr_poly.fit(X_train, y_train).predict(X_test) # This takes really long, thus I skipped it\n",
    "print('SVR Rbf MAPE: ', mean_absolute_percentage_error(y_rbf, y_pred))\n",
    "print('SVR linear MAPE: ', mean_absolute_percentage_error(y_lin, y_pred))\n",
    "# print('SVR polynomial MAPE: ', mean_absolute_percentage_error(y_poly, y_pred))"
   ]
  },
  {
   "cell_type": "markdown",
   "metadata": {},
   "source": [
    "Also the SVM regressor is performing worse than the linear models, but a lot better than the random forest or the ada boost regressor. What is going on?"
   ]
  },
  {
   "cell_type": "markdown",
   "metadata": {},
   "source": [
    "### Why doe the linear model work so well?"
   ]
  },
  {
   "cell_type": "code",
   "execution_count": 15,
   "metadata": {
    "collapsed": false,
    "scrolled": true
   },
   "outputs": [
    {
     "data": {
      "text/html": [
       "<div>\n",
       "<table border=\"1\" class=\"dataframe\">\n",
       "  <thead>\n",
       "    <tr style=\"text-align: right;\">\n",
       "      <th></th>\n",
       "      <th></th>\n",
       "      <th>coef</th>\n",
       "      <th>std err</th>\n",
       "      <th>z</th>\n",
       "      <th>P&gt;|z|</th>\n",
       "      <th>[95.0% Conf. Int.]</th>\n",
       "    </tr>\n",
       "  </thead>\n",
       "  <tbody>\n",
       "    <tr>\n",
       "      <th>0</th>\n",
       "      <td>Intercept</td>\n",
       "      <td>503.2564</td>\n",
       "      <td>10.444</td>\n",
       "      <td>48.188</td>\n",
       "      <td>0</td>\n",
       "      <td>482.787   523.725</td>\n",
       "    </tr>\n",
       "    <tr>\n",
       "      <th>1</th>\n",
       "      <td>C(House)[T.2]</td>\n",
       "      <td>-204.7656</td>\n",
       "      <td>13.765</td>\n",
       "      <td>-14.876</td>\n",
       "      <td>0</td>\n",
       "      <td>-231.745  -177.786</td>\n",
       "    </tr>\n",
       "    <tr>\n",
       "      <th>2</th>\n",
       "      <td>C(House)[T.3]</td>\n",
       "      <td>-81.2028</td>\n",
       "      <td>13.765</td>\n",
       "      <td>-5.899</td>\n",
       "      <td>0</td>\n",
       "      <td>-108.182   -54.224</td>\n",
       "    </tr>\n",
       "    <tr>\n",
       "      <th>3</th>\n",
       "      <td>C(House)[T.4]</td>\n",
       "      <td>-284.1138</td>\n",
       "      <td>13.766</td>\n",
       "      <td>-20.639</td>\n",
       "      <td>0</td>\n",
       "      <td>-311.094  -257.134</td>\n",
       "    </tr>\n",
       "    <tr>\n",
       "      <th>4</th>\n",
       "      <td>C(House)[T.5]</td>\n",
       "      <td>-284.1138</td>\n",
       "      <td>13.766</td>\n",
       "      <td>-20.639</td>\n",
       "      <td>0</td>\n",
       "      <td>-311.094  -257.134</td>\n",
       "    </tr>\n",
       "    <tr>\n",
       "      <th>5</th>\n",
       "      <td>C(House)[T.6]</td>\n",
       "      <td>-123.3885</td>\n",
       "      <td>13.765</td>\n",
       "      <td>-8.964</td>\n",
       "      <td>0</td>\n",
       "      <td>-150.368   -96.409</td>\n",
       "    </tr>\n",
       "    <tr>\n",
       "      <th>6</th>\n",
       "      <td>C(House)[T.7]</td>\n",
       "      <td>-69.1730</td>\n",
       "      <td>13.765</td>\n",
       "      <td>-5.025</td>\n",
       "      <td>0</td>\n",
       "      <td>-96.152   -42.194</td>\n",
       "    </tr>\n",
       "    <tr>\n",
       "      <th>7</th>\n",
       "      <td>C(House)[T.8]</td>\n",
       "      <td>-194.2437</td>\n",
       "      <td>13.765</td>\n",
       "      <td>-14.111</td>\n",
       "      <td>0</td>\n",
       "      <td>-221.223  -167.264</td>\n",
       "    </tr>\n",
       "    <tr>\n",
       "      <th>8</th>\n",
       "      <td>C(House)[T.9]</td>\n",
       "      <td>-275.3926</td>\n",
       "      <td>13.766</td>\n",
       "      <td>-20.006</td>\n",
       "      <td>0</td>\n",
       "      <td>-302.373  -248.412</td>\n",
       "    </tr>\n",
       "    <tr>\n",
       "      <th>9</th>\n",
       "      <td>C(House)[T.10]</td>\n",
       "      <td>-263.3819</td>\n",
       "      <td>13.765</td>\n",
       "      <td>-19.134</td>\n",
       "      <td>0</td>\n",
       "      <td>-290.361  -236.403</td>\n",
       "    </tr>\n",
       "  </tbody>\n",
       "</table>\n",
       "</div>"
      ],
      "text/plain": [
       "                       coef      std err       z      P>|z|   \\\n",
       "0  Intercept          503.2564     10.444     48.188       0   \n",
       "1  C(House)[T.2]     -204.7656     13.765    -14.876       0   \n",
       "2  C(House)[T.3]      -81.2028     13.765     -5.899       0   \n",
       "3  C(House)[T.4]     -284.1138     13.766    -20.639       0   \n",
       "4  C(House)[T.5]     -284.1138     13.766    -20.639       0   \n",
       "5  C(House)[T.6]     -123.3885     13.765     -8.964       0   \n",
       "6  C(House)[T.7]      -69.1730     13.765     -5.025       0   \n",
       "7  C(House)[T.8]     -194.2437     13.765    -14.111       0   \n",
       "8  C(House)[T.9]     -275.3926     13.766    -20.006       0   \n",
       "9  C(House)[T.10]    -263.3819     13.765    -19.134       0   \n",
       "\n",
       "    [95.0% Conf. Int.]  \n",
       "0    482.787   523.725  \n",
       "1   -231.745  -177.786  \n",
       "2   -108.182   -54.224  \n",
       "3   -311.094  -257.134  \n",
       "4   -311.094  -257.134  \n",
       "5   -150.368   -96.409  \n",
       "6    -96.152   -42.194  \n",
       "7   -221.223  -167.264  \n",
       "8   -302.373  -248.412  \n",
       "9   -290.361  -236.403  "
      ]
     },
     "execution_count": 15,
     "metadata": {},
     "output_type": "execute_result"
    }
   ],
   "source": [
    "short_summary = io.StringIO(glm.summary().tables[1].as_csv())\n",
    "pd.read_csv(short_summary).head(10)"
   ]
  },
  {
   "cell_type": "markdown",
   "metadata": {},
   "source": [
    "My hunch is that the more complicated models perform worse, because the linear models deal with categorical data differently. The linear models give each house its own coefficient. Intuitively this should account for the \"baseline\" production rate of each house."
   ]
  },
  {
   "cell_type": "code",
   "execution_count": 16,
   "metadata": {
    "collapsed": false
   },
   "outputs": [
    {
     "name": "stdout",
     "output_type": "stream",
     "text": [
      "GLM MAPE:  13.3966349405\n"
     ]
    }
   ],
   "source": [
    "glm = smf.glm('EnergyProduction ~ Temperature + Daylight + Month', df_train).fit()\n",
    "print(\"GLM MAPE: \", mean_absolute_percentage_error(y_test, glm.predict(df_test)))"
   ]
  },
  {
   "cell_type": "markdown",
   "metadata": {},
   "source": [
    "And indeed removing the houses from the general linear model as an independent variable, decreases performance quite dramatically. One idea is construct the baseline production rate for each house as an additional feature and create a feature that measures in standard deviations how much each value for production differs from the mean (the baseline)."
   ]
  },
  {
   "cell_type": "code",
   "execution_count": 17,
   "metadata": {
    "collapsed": false
   },
   "outputs": [
    {
     "data": {
      "text/html": [
       "<div>\n",
       "<table border=\"1\" class=\"dataframe\">\n",
       "  <thead>\n",
       "    <tr style=\"text-align: right;\">\n",
       "      <th></th>\n",
       "      <th>ID</th>\n",
       "      <th>Label</th>\n",
       "      <th>House</th>\n",
       "      <th>Year</th>\n",
       "      <th>Month</th>\n",
       "      <th>Temperature</th>\n",
       "      <th>Daylight</th>\n",
       "      <th>EnergyProduction</th>\n",
       "      <th>EnergyProduction_baseline</th>\n",
       "      <th>EnergyProduction_std</th>\n",
       "      <th>E-zscore</th>\n",
       "    </tr>\n",
       "  </thead>\n",
       "  <tbody>\n",
       "    <tr>\n",
       "      <th>0</th>\n",
       "      <td>23</td>\n",
       "      <td>23</td>\n",
       "      <td>1</td>\n",
       "      <td>2013</td>\n",
       "      <td>0</td>\n",
       "      <td>22.0</td>\n",
       "      <td>125.5</td>\n",
       "      <td>778</td>\n",
       "      <td>800.478261</td>\n",
       "      <td>129.874019</td>\n",
       "      <td>-0.173077</td>\n",
       "    </tr>\n",
       "    <tr>\n",
       "      <th>1</th>\n",
       "      <td>47</td>\n",
       "      <td>23</td>\n",
       "      <td>2</td>\n",
       "      <td>2013</td>\n",
       "      <td>0</td>\n",
       "      <td>21.1</td>\n",
       "      <td>123.1</td>\n",
       "      <td>627</td>\n",
       "      <td>582.391304</td>\n",
       "      <td>120.537335</td>\n",
       "      <td>0.370082</td>\n",
       "    </tr>\n",
       "    <tr>\n",
       "      <th>2</th>\n",
       "      <td>71</td>\n",
       "      <td>23</td>\n",
       "      <td>3</td>\n",
       "      <td>2013</td>\n",
       "      <td>0</td>\n",
       "      <td>21.9</td>\n",
       "      <td>126.8</td>\n",
       "      <td>735</td>\n",
       "      <td>714.608696</td>\n",
       "      <td>129.144999</td>\n",
       "      <td>0.157895</td>\n",
       "    </tr>\n",
       "    <tr>\n",
       "      <th>3</th>\n",
       "      <td>95</td>\n",
       "      <td>23</td>\n",
       "      <td>4</td>\n",
       "      <td>2013</td>\n",
       "      <td>0</td>\n",
       "      <td>20.2</td>\n",
       "      <td>125.2</td>\n",
       "      <td>533</td>\n",
       "      <td>497.956522</td>\n",
       "      <td>102.206332</td>\n",
       "      <td>0.342870</td>\n",
       "    </tr>\n",
       "    <tr>\n",
       "      <th>4</th>\n",
       "      <td>119</td>\n",
       "      <td>23</td>\n",
       "      <td>5</td>\n",
       "      <td>2013</td>\n",
       "      <td>0</td>\n",
       "      <td>20.2</td>\n",
       "      <td>125.2</td>\n",
       "      <td>533</td>\n",
       "      <td>497.956522</td>\n",
       "      <td>102.206332</td>\n",
       "      <td>0.342870</td>\n",
       "    </tr>\n",
       "  </tbody>\n",
       "</table>\n",
       "</div>"
      ],
      "text/plain": [
       "    ID  Label  House  Year  Month  Temperature  Daylight  EnergyProduction  \\\n",
       "0   23     23      1  2013      0         22.0     125.5               778   \n",
       "1   47     23      2  2013      0         21.1     123.1               627   \n",
       "2   71     23      3  2013      0         21.9     126.8               735   \n",
       "3   95     23      4  2013      0         20.2     125.2               533   \n",
       "4  119     23      5  2013      0         20.2     125.2               533   \n",
       "\n",
       "   EnergyProduction_baseline  EnergyProduction_std  E-zscore  \n",
       "0                 800.478261            129.874019 -0.173077  \n",
       "1                 582.391304            120.537335  0.370082  \n",
       "2                 714.608696            129.144999  0.157895  \n",
       "3                 497.956522            102.206332  0.342870  \n",
       "4                 497.956522            102.206332  0.342870  "
      ]
     },
     "execution_count": 17,
     "metadata": {},
     "output_type": "execute_result"
    }
   ],
   "source": [
    "baseline = df_train.groupby('House')['EnergyProduction'].mean()\n",
    "baseline_std = df_train.groupby('House')['EnergyProduction'].std()\n",
    "df_train = df_train.join(baseline, on='House', rsuffix='_baseline')\n",
    "df_train = df_train.join(baseline_std, on='House', rsuffix='_std')\n",
    "df_train['E-zscore'] = (df_train['EnergyProduction'] - df_train['EnergyProduction_baseline'])/df_train['EnergyProduction_std']\n",
    "df_train.drop(['EnergyProduction_baseline', 'EnergyProduction_baseline'], 1)\n",
    "\n",
    "lookup_base = dict(zip(baseline.index, baseline))\n",
    "lookup_std = dict(zip(baseline_std.index, baseline_std))\n",
    "df_test['EnergyProduction_baseline'] = [lookup_base[key] for key in df_test['House'].values]\n",
    "df_test['EnergyProduction_std'] = [lookup_std[key] for key in df_test['House'].values]\n",
    "df_test['E-zscore'] = (df_test['EnergyProduction'] - df_test['EnergyProduction_baseline'])/df_test['EnergyProduction_std']\n",
    "df_test.drop(['EnergyProduction_baseline', 'EnergyProduction_baseline'], 1)\n",
    "df_test.head(5)"
   ]
  },
  {
   "cell_type": "code",
   "execution_count": 18,
   "metadata": {
    "collapsed": false
   },
   "outputs": [
    {
     "data": {
      "text/plain": [
       "<matplotlib.axes._subplots.AxesSubplot at 0x7f07b7fec5f8>"
      ]
     },
     "execution_count": 18,
     "metadata": {},
     "output_type": "execute_result"
    },
    {
     "data": {
      "image/png": "[encoded data removed]",
      "text/plain": [
       "<matplotlib.figure.Figure at 0x7f07b7ff2f60>"
      ]
     },
     "metadata": {},
     "output_type": "display_data"
    }
   ],
   "source": [
    "sns.regplot(x='EnergyProduction_baseline', y='EnergyProduction', data=df_train)"
   ]
  },
  {
   "cell_type": "markdown",
   "metadata": {},
   "source": [
    "There is unsurprisingly a strong correlation between the energy production and the baseline production of each house. Let's try out our new feature."
   ]
  },
  {
   "cell_type": "code",
   "execution_count": 19,
   "metadata": {
    "collapsed": false
   },
   "outputs": [],
   "source": [
    "X_train = df_train.loc[0:, 'House':'E-zscore'].values\n",
    "y_train = df_train.loc[0:, 'EnergyProduction'].values\n",
    "X_test = df_test.loc[0:, 'House':'E-zscore'].values\n",
    "y_test = df_test.loc[0:, 'EnergyProduction'].values"
   ]
  },
  {
   "cell_type": "code",
   "execution_count": 20,
   "metadata": {
    "collapsed": false
   },
   "outputs": [
    {
     "name": "stdout",
     "output_type": "stream",
     "text": [
      "RFR MAPE:  0.958561205614\n"
     ]
    }
   ],
   "source": [
    "rfr = ensemble.RandomForestRegressor(n_estimators=500, max_features='sqrt')\n",
    "rfr.fit(X_train, y_train)\n",
    "y_pred = rfr.predict(X_test)\n",
    "print('RFR MAPE: ', mean_absolute_percentage_error(y_test, y_pred))\n",
    "final_y_test = copy.copy(y_test)\n",
    "final_y_pred = copy.copy(y_pred)"
   ]
  },
  {
   "cell_type": "code",
   "execution_count": 21,
   "metadata": {
    "collapsed": false
   },
   "outputs": [
    {
     "name": "stdout",
     "output_type": "stream",
     "text": [
      "ABR MAPE:  1.91295373171\n"
     ]
    }
   ],
   "source": [
    "abr = ensemble.AdaBoostRegressor(n_estimators=500)\n",
    "abr.fit(X_train, y_train)\n",
    "y_pred = abr.predict(X_test)\n",
    "print('ABR MAPE: ', mean_absolute_percentage_error(y_test, y_pred))"
   ]
  },
  {
   "cell_type": "code",
   "execution_count": 22,
   "metadata": {
    "collapsed": false
   },
   "outputs": [
    {
     "name": "stdout",
     "output_type": "stream",
     "text": [
      "SVR Rbf MAPE:  14.0681617467\n",
      "SVR linear MAPE:  1.90877225318\n"
     ]
    }
   ],
   "source": [
    "svr_rbf = svm.SVR(kernel='rbf', C=1e3, gamma=0.1)\n",
    "svr_lin = svm.SVR(kernel='linear', C=1e3)\n",
    "# svr_poly = svm.SVR(kernel='poly', C=1e3, degree=2)\n",
    "y_rbf = svr_rbf.fit(X_train, y_train).predict(X_test)\n",
    "y_lin = svr_lin.fit(X_train, y_train).predict(X_test)\n",
    "# y_poly = svr_poly.fit(X_train, y_train).predict(X_test) # This takes really long, thus I skipped it\n",
    "print('SVR Rbf MAPE: ', mean_absolute_percentage_error(y_rbf, y_pred))\n",
    "print('SVR linear MAPE: ', mean_absolute_percentage_error(y_lin, y_pred))\n",
    "# print('SVR polynomial MAPE: ', mean_absolute_percentage_error(y_poly, y_pred))"
   ]
  },
  {
   "cell_type": "markdown",
   "metadata": {},
   "source": [
    "0.9 is already pretty good for the random forest regressor and a huge increase. Let's see whether we can get any better. One idea I have is to build seperate models for each house as the baseline production rate for each house seems to be very important for each house. While in this way I can fit each model to the individual dynamics of production for each house, the downside is that we are having fewer datapoints to train on for each house."
   ]
  },
  {
   "cell_type": "markdown",
   "metadata": {},
   "source": [
    "### Individual \"house\" models"
   ]
  },
  {
   "cell_type": "code",
   "execution_count": 23,
   "metadata": {
    "collapsed": true
   },
   "outputs": [],
   "source": [
    "# Build a seperate model for each house\n",
    "houses_train = df_train.loc[0:, 'House':].groupby('House').groups\n",
    "houses_test = df_test.loc[0:, 'House':].groupby('House').groups\n",
    "houses = list(set(houses_train.keys()) & set(houses_test.keys()))"
   ]
  },
  {
   "cell_type": "code",
   "execution_count": 24,
   "metadata": {
    "collapsed": false,
    "scrolled": false
   },
   "outputs": [
    {
     "name": "stdout",
     "output_type": "stream",
     "text": [
      "House RFR MAPE:  1.75871452972\n"
     ]
    }
   ],
   "source": [
    "# House RFR\n",
    "y_true = list()\n",
    "y_pred = list()\n",
    "y_pred_glm = list()\n",
    "for house in houses:\n",
    "    rows_train = houses_train[house]\n",
    "    rows_test = houses_test[house]\n",
    "    rfr = ensemble.RandomForestRegressor(n_estimators=300)\n",
    "    X_train = df_train.loc[rows_train, 'Month':]\n",
    "    y_train = df_train.loc[rows_train, 'EnergyProduction'].values\n",
    "    X_test = df_test.loc[rows_test, 'Month':]\n",
    "    y_test = df_test.loc[rows_test, 'EnergyProduction'].values\n",
    "    rfr.fit(X_train, y_train)\n",
    "    y_true.append(y_test)\n",
    "    y_pred.append(rfr.predict(X_test))\n",
    "    \n",
    "print('House RFR MAPE: ', mean_absolute_percentage_error(y_true, y_pred))"
   ]
  },
  {
   "cell_type": "code",
   "execution_count": 25,
   "metadata": {
    "collapsed": false
   },
   "outputs": [
    {
     "name": "stdout",
     "output_type": "stream",
     "text": [
      "House ABR MAPE:  1.78607849136\n"
     ]
    }
   ],
   "source": [
    "# House AdaBoostRegressor\n",
    "y_true = list()\n",
    "y_pred = list()\n",
    "y_pred_glm = list()\n",
    "for house in houses:\n",
    "    rows_train = houses_train[house]\n",
    "    rows_test = houses_test[house]\n",
    "    abr = ensemble.AdaBoostRegressor(n_estimators=500)\n",
    "    X_train = df_train.loc[rows_train, 'Month':]\n",
    "    y_train = df_train.loc[rows_train, 'EnergyProduction'].values\n",
    "    X_test = df_test.loc[rows_test, 'Month':]\n",
    "    y_test = df_test.loc[rows_test, 'EnergyProduction'].values\n",
    "    abr.fit(X_train, y_train)\n",
    "    y_true.append(y_test)\n",
    "    y_pred.append(abr.predict(X_test))\n",
    "    \n",
    "print('House ABR MAPE: ', mean_absolute_percentage_error(y_true, y_pred))"
   ]
  },
  {
   "cell_type": "code",
   "execution_count": 26,
   "metadata": {
    "collapsed": false
   },
   "outputs": [
    {
     "name": "stdout",
     "output_type": "stream",
     "text": [
      "House SVR MAPE:  11.8566550439\n"
     ]
    }
   ],
   "source": [
    "# House SVR\n",
    "y_true = list()\n",
    "y_pred = list()\n",
    "y_pred_glm = list()\n",
    "for house in houses:\n",
    "    rows_train = houses_train[house]\n",
    "    rows_test = houses_test[house]\n",
    "    svr = svm.SVR(kernel='rbf', C=1e3, gamma=0.1)\n",
    "    X_train = df_train.loc[rows_train, 'Month':]\n",
    "    y_train = df_train.loc[rows_train, 'EnergyProduction'].values\n",
    "    X_test = df_test.loc[rows_test, 'Month':]\n",
    "    y_test = df_test.loc[rows_test, 'EnergyProduction'].values\n",
    "    svr.fit(X_train, y_train)\n",
    "    y_true.append(y_test)\n",
    "    y_pred.append(rfr.predict(X_test))\n",
    "    \n",
    "print('House SVR MAPE: ', mean_absolute_percentage_error(y_true, y_pred))"
   ]
  },
  {
   "cell_type": "code",
   "execution_count": 27,
   "metadata": {
    "collapsed": false
   },
   "outputs": [
    {
     "name": "stdout",
     "output_type": "stream",
     "text": [
      "MAPE:  6.64456366833\n"
     ]
    }
   ],
   "source": [
    "# House GLM\n",
    "y_true = list()\n",
    "y_pred = list()\n",
    "for house in houses:\n",
    "    rows_train = houses_train[house]\n",
    "    rows_test = houses_test[house]\n",
    "    X_train = df_train.loc[rows_train, 'Month':]\n",
    "    X_test = df_test.loc[rows_test, 'Month':'Daylight']\n",
    "    y_test = df_test.loc[rows_test, 'EnergyProduction'].values\n",
    "    glm = smf.glm('EnergyProduction ~ Temperature + Daylight + Month', X_train).fit()\n",
    "    y_true.append(y_test)\n",
    "    y_pred.append(glm.predict(X_test))\n",
    "    \n",
    "print('MAPE: ', mean_absolute_percentage_error(y_true, y_pred))"
   ]
  },
  {
   "cell_type": "markdown",
   "metadata": {},
   "source": [
    "In short, it doesn't really make sense to construct an indvidual model for each houes. The performance, while often not terrible, is throughout the bank worse."
   ]
  },
  {
   "cell_type": "markdown",
   "metadata": {
    "collapsed": false
   },
   "source": [
    "### Findings\n",
    "\n",
    "The best model for predicting is the random forest regressor with a MAPE of under 1%. Let's look how those predictions actually look like."
   ]
  },
  {
   "cell_type": "code",
   "execution_count": 28,
   "metadata": {
    "collapsed": false
   },
   "outputs": [
    {
     "data": {
      "text/plain": [
       "<matplotlib.text.Text at 0x7f07b7f25828>"
      ]
     },
     "execution_count": 28,
     "metadata": {},
     "output_type": "execute_result"
    },
    {
     "data": {
      "image/png": "[encoded data removed]",
      "text/plain": [
       "<matplotlib.figure.Figure at 0x7f07b5f9aa90>"
      ]
     },
     "metadata": {},
     "output_type": "display_data"
    }
   ],
   "source": [
    "fig, ax = plt.subplots(figsize=(14, 8.75))\n",
    "y = final_y_test\n",
    "x = final_y_pred\n",
    "m, b = np.polyfit(x, y, 1)\n",
    "\n",
    "plt.plot(x, y, '.')\n",
    "plt.plot(x, m*x + b, '-')\n",
    "plt.title('RFR predictions')\n",
    "plt.xlabel('predictions')\n",
    "plt.ylabel('true value')"
   ]
  },
  {
   "cell_type": "markdown",
   "metadata": {
    "collapsed": false
   },
   "source": [
    "## What to do next\n",
    "1. One could start and fine tune the features and the parameters of the random forest regressor more. Scaling, normalization, and maybe some more transformations might further increase performance\n",
    "2. If one could gather more data, I think it might be worthwhile to further explore the \"indivdual\" house models. I know it sounds trite, but we need more data."
   ]
  },
  {
   "cell_type": "code",
   "execution_count": 29,
   "metadata": {
    "collapsed": false
   },
   "outputs": [],
   "source": [
    "with open('predicted_energy_production.csv', 'w') as f:\n",
    "    w = csv.writer(f)\n",
    "    w.writerow(['House', 'EnergyProduction'])\n",
    "    for r, s in zip(list(df_test['House']), final_y_pred):\n",
    "        w.writerow([r, s])"
   ]
  }
 ],
 "metadata": {
  "kernelspec": {
   "display_name": "Python 3",
   "language": "python",
   "name": "python3"
  },
  "language_info": {
   "codemirror_mode": {
    "name": "ipython",
    "version": 3.0
   },
   "file_extension": ".py",
   "mimetype": "text/x-python",
   "name": "python",
   "nbconvert_exporter": "python",
   "pygments_lexer": "ipython3",
   "version": "3.4.4"
  }
 },
 "nbformat": 4,
 "nbformat_minor": 0
}